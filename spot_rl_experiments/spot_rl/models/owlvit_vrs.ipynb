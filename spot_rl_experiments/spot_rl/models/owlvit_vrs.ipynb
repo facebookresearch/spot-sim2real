{
 "cells": [
  {
   "cell_type": "code",
   "execution_count": 1,
   "metadata": {},
   "outputs": [],
   "source": [
    "from owlvit import OwlVit\n",
    "import argparse\n",
    "from projectaria_tools.core import data_provider, mps\n",
    "from projectaria_tools.core.stream_id import RecordableTypeId, StreamId\n",
    "from projectaria_tools.core.sensor_data import TimeDomain, TimeQueryOptions\n",
    "import numpy as np\n",
    "from typing import Optional"
   ]
  },
  {
   "cell_type": "code",
   "execution_count": 2,
   "metadata": {},
   "outputs": [],
   "source": [
    "class AriaDataLoader:\n",
    "    def __init__(self, vrsfile_path, closed_loop_trajectory_path):\n",
    "        self._vrsfile = vrsfile_path\n",
    "        self._traj_dile = closed_loop_trajectory_path\n",
    "        self.rgb_stream_id = StreamId(\"214-1\")\n",
    "\n",
    "        self.data_provider = data_provider.create_vrs_data_provider(vrsfile_path)\n",
    "        self.mps_trajectory = mps.read_closed_loop_trajectory(closed_loop_trajectory_path)\n",
    "        self.xyz_trajectory = np.empty([len(self.mps_trajectory), 3])\n",
    "        self.quat_trajectory = np.empty([len(self.mps_trajectory), 4])\n",
    "        self.trajectory_ns = np.empty([len(self.mps_trajectory)])\n",
    "        self.initialize_trajectory()\n",
    "\n",
    "    def initialize_trajectory(self):\n",
    "        for i in range(len(self.mps_trajectory)):\n",
    "            self.xyz_trajectory[i,:] = self.mps_trajectory[i].transform_world_device.translation()\n",
    "            self.quat_trajectory[i,:] = self.mps_trajectory[i].transform_world_device.quaternion()\n",
    "            self.trajectory_ns[i] = self.mps_trajectory[i].tracking_timestamp.total_seconds()\n",
    "\n",
    "    def plot_trajectory(self, markers: Optional[np.ndarray]=None):\n",
    "        fig = plt.figure()\n",
    "        ax = fig.add_subplot(111, projection='3d')\n",
    "        ax.plot(self.xyz_trajectory[:,0], self.xyz_trajectory[:,1], self.xyz_trajectory[:,2])\n",
    "        if markers is not None:\n",
    "            ax.plot(markers[:,0], markers[:,1], markers[:,2], 'ro', markersize=12)\n",
    "        plt.show()\n",
    "        \n",
    "    def plot_rgb_and_trajectory(self, timestamp=None):\n",
    "        rgb = self.data_provider.get_image_data_by_time_ns(self.rgb_stream_id, int(timestamp * 1e9), TimeDomain.DEVICE_TIME, TimeQueryOptions.CLOSEST)[0].to_numpy_array()\n",
    "        plt.imshow(rgb)\n",
    "        marker_idx = np.argmin(np.abs(self.trajectory_ns - timestamp))\n",
    "        markers = self.xyz_trajectory[marker_idx, :].reshape(1,3)\n",
    "        self.plot_trajectory(markers=markers)\n"
   ]
  },
  {
   "cell_type": "code",
   "execution_count": 7,
   "metadata": {},
   "outputs": [
    {
     "name": "stderr",
     "output_type": "stream",
     "text": [
      "usage: ipykernel_launcher.py [-h] [--file FILE]\n",
      "                             [--score_threshold SCORE_THRESHOLD]\n",
      "                             [--show_img SHOW_IMG] [--labels LABELS]\n",
      "ipykernel_launcher.py: error: unrecognized arguments: --ip=127.0.0.1 --stdin=9026 --control=9024 --hb=9023 --Session.signature_scheme=\"hmac-sha256\" --Session.key=b\"a02a6f6b-23bd-47d6-bbad-8cdaef8ddec1\" --shell=9025 --transport=\"tcp\" --iopub=9027\n"
     ]
    },
    {
     "ename": "SystemExit",
     "evalue": "2",
     "output_type": "error",
     "traceback": [
      "An exception has occurred, use %tb to see the full traceback.\n",
      "\u001b[0;31mSystemExit\u001b[0m\u001b[0;31m:\u001b[0m 2\n"
     ]
    }
   ],
   "source": [
    "import time\n",
    "\n",
    "parser = argparse.ArgumentParser()\n",
    "parser.add_argument(\n",
    "    \"--file\",\n",
    "    type=str,\n",
    "    default=\"/home/priparashar/Documents/aria_recordings_transient/09_12_2023/QrCodeTest00.vrs\",\n",
    ")\n",
    "parser.add_argument(\"--score_threshold\", type=float, default=0.1)\n",
    "parser.add_argument(\"--show_img\", type=bool, default=True)\n",
    "parser.add_argument(\n",
    "    \"--labels\",\n",
    "    type=list,\n",
    "    default=[\n",
    "        [\n",
    "            \"indoor plant\",\n",
    "            \"stained glass\",\n",
    "            \"doorframe\",\n",
    "        ]\n",
    "    ],\n",
    ")\n",
    "args = parser.parse_args()\n",
    "\n",
    "vrs_file = args.file\n",
    "mps_file = \"/home/priparashar/Documents/aria_recordings_transient/09_12_2023/outputs/closed_loop_trajectory.csv\"\n",
    "aria = AriaDataLoader(vrs_file, mps_file)\n",
    "\n",
    "V = OwlVit(args.labels, args.score_threshold, args.show_img)\n",
    "img = aria.data_provider.get_image_data_by_time_ns(aria.rgb_stream_id, 0, TimeDomain.DEVICE_TIME, TimeQueryOptions.CLOSEST)[0].to_numpy_array()\n",
    "results = V.run_inference(img)\n",
    "# Keep the window open for 10 seconds\n",
    "time.sleep(10)"
   ]
  }
 ],
 "metadata": {
  "kernelspec": {
   "display_name": "aria-and-spot",
   "language": "python",
   "name": "python3"
  },
  "language_info": {
   "codemirror_mode": {
    "name": "ipython",
    "version": 3
   },
   "file_extension": ".py",
   "mimetype": "text/x-python",
   "name": "python",
   "nbconvert_exporter": "python",
   "pygments_lexer": "ipython3",
   "version": "3.8.13"
  },
  "orig_nbformat": 4
 },
 "nbformat": 4,
 "nbformat_minor": 2
}
